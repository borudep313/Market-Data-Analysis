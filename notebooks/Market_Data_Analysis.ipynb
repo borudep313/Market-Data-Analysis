{
 "cells": [
  {
   "cell_type": "markdown",
   "id": "2d723e90-e1c7-4e1f-b935-03db0b2ccd48",
   "metadata": {},
   "source": [
    "# Market Data Analysis"
   ]
  },
  {
   "cell_type": "markdown",
   "id": "157750c7-ac4e-4976-bce8-c57f3548df43",
   "metadata": {},
   "source": [
    "## Project Overview"
   ]
  },
  {
   "cell_type": "markdown",
   "id": "cfc2a775-d8e4-498b-b38d-2577e308b725",
   "metadata": {},
   "source": [
    "## Data"
   ]
  },
  {
   "cell_type": "code",
   "execution_count": 4,
   "id": "793884d8-15e1-4139-8278-43458255042f",
   "metadata": {},
   "outputs": [
    {
     "name": "stderr",
     "output_type": "stream",
     "text": [
      "C:\\Users\\prana\\AppData\\Local\\Temp\\ipykernel_66240\\514140219.py:7: FutureWarning: YF.download() has changed argument auto_adjust default to True\n",
      "  data = yf.download(ticker, start=start_date, end=end_date)\n",
      "[*********************100%***********************]  1 of 1 completed\n"
     ]
    }
   ],
   "source": [
    "import yfinance as yf\n",
    "import pandas as pd\n",
    "\n",
    "ticker = \"AAPL\"\n",
    "start_date = \"2018-01-01\"\n",
    "end_date = \"2023-01-01\"\n",
    "data = yf.download(ticker, start=start_date, end=end_date)\n",
    "data.to_csv(\"../data/AAPL.csv\")"
   ]
  },
  {
   "cell_type": "markdown",
   "id": "3d43ba46-eb79-4190-94a0-b43c024d6ea7",
   "metadata": {},
   "source": [
    "## Methodology"
   ]
  },
  {
   "cell_type": "markdown",
   "id": "57effc53-cad9-4117-9ed5-ee6c0d4e79de",
   "metadata": {},
   "source": [
    "## Results"
   ]
  },
  {
   "cell_type": "markdown",
   "id": "a0a0450e-61e6-4ae6-aa02-107fdaf446db",
   "metadata": {},
   "source": [
    "## Conclusion"
   ]
  }
 ],
 "metadata": {
  "kernelspec": {
   "display_name": "Python 3 (ipykernel)",
   "language": "python",
   "name": "python3"
  },
  "language_info": {
   "codemirror_mode": {
    "name": "ipython",
    "version": 3
   },
   "file_extension": ".py",
   "mimetype": "text/x-python",
   "name": "python",
   "nbconvert_exporter": "python",
   "pygments_lexer": "ipython3",
   "version": "3.13.7"
  }
 },
 "nbformat": 4,
 "nbformat_minor": 5
}
